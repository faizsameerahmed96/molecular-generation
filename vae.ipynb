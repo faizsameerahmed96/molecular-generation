{
 "cells": [
  {
   "cell_type": "code",
   "execution_count": 11,
   "id": "50bcc887",
   "metadata": {},
   "outputs": [],
   "source": [
    "import pandas as pd\n",
    "import torch"
   ]
  },
  {
   "cell_type": "code",
   "execution_count": 3,
   "id": "a7654221",
   "metadata": {},
   "outputs": [],
   "source": [
    "df = pd.read_csv('./data/train.csv')\n",
    "smiles_list = df['SMILES'].tolist()"
   ]
  },
  {
   "cell_type": "code",
   "execution_count": null,
   "id": "4a351b35",
   "metadata": {},
   "outputs": [],
   "source": [
    "# Tokenize SMILES strings (character-level )\n",
    "\n",
    "from collections import Counter\n",
    "\n",
    "def tokenize(smiles):\n",
    "    return list(smiles)  # character-level\n",
    "\n",
    "tokens = [token for s in smiles_list for token in tokenize(s)]\n",
    "vocab = ['<pad>', '<bos>', '<eos>', '<unk>'] + sorted(set(tokens))\n",
    "stoi = {ch: i for i, ch in enumerate(vocab)}\n",
    "itos = {i: ch for ch, i in stoi.items()}"
   ]
  },
  {
   "cell_type": "code",
   "execution_count": 12,
   "id": "38c5e179",
   "metadata": {},
   "outputs": [],
   "source": [
    "MAX_LEN = 60\n",
    "\n",
    "def encode(smiles):\n",
    "    tokens = ['<bos>'] + tokenize(smiles) + ['<eos>']\n",
    "    idxs = [stoi.get(t, stoi['<unk>']) for t in tokens]\n",
    "    idxs = idxs[:MAX_LEN] + [stoi['<pad>']] * (MAX_LEN - len(idxs))\n",
    "    return idxs\n",
    "\n",
    "input_tensor = torch.tensor([encode(s) for s in smiles_list])"
   ]
  },
  {
   "cell_type": "code",
   "execution_count": null,
   "id": "b6d458e4",
   "metadata": {},
   "outputs": [
    {
     "data": {
      "text/plain": [
       "tensor([ 1, 16, 16, 16, 21,  5, 14, 20,  6, 24,  8, 24, 24, 24,  9, 22, 26, 18,\n",
       "        23, 24,  5, 14, 19, 16,  5, 14, 20,  6, 20, 16,  6, 22, 26, 18, 23, 24,\n",
       "         9, 24,  8,  2,  0,  0,  0,  0,  0,  0,  0,  0,  0,  0,  0,  0,  0,  0,\n",
       "         0,  0,  0,  0,  0,  0])"
      ]
     },
     "execution_count": 13,
     "metadata": {},
     "output_type": "execute_result"
    }
   ],
   "source": []
  },
  {
   "cell_type": "code",
   "execution_count": null,
   "id": "c0c6c745",
   "metadata": {},
   "outputs": [],
   "source": []
  }
 ],
 "metadata": {
  "kernelspec": {
   "display_name": "ai-env",
   "language": "python",
   "name": "python3"
  },
  "language_info": {
   "codemirror_mode": {
    "name": "ipython",
    "version": 3
   },
   "file_extension": ".py",
   "mimetype": "text/x-python",
   "name": "python",
   "nbconvert_exporter": "python",
   "pygments_lexer": "ipython3",
   "version": "3.12.2"
  }
 },
 "nbformat": 4,
 "nbformat_minor": 5
}
